{
 "cells": [
  {
   "cell_type": "code",
   "execution_count": 18,
   "id": "52b7dc16",
   "metadata": {},
   "outputs": [
    {
     "name": "stdout",
     "output_type": "stream",
     "text": [
      "['theisplots\\\\IMR.eps', 'run.py', 'thesisplots', 'move_results.py', 'ParameterTuning', '.gitignore', 'myfile.txt', 'logs', 'varchange', 'run_ressources', 'notebooks', 'Data_hidden', 'Scenarios', '.git', 'data_methods', 'shift', 'Untitled.ipynb', 'summary.py', 'Results', 'myfile.toml', '__pycache__', 'profile_run.py', 'test.py', 'README.md', 'Injection', '.idea', 'Repair', 'install.sh', 'outlier', 'Data', '.ipynb_checkpoints', 'error_ranking.py']\n",
      "Data/bafu5k.csv\n"
     ]
    }
   ],
   "source": [
    "import os\n",
    "import numpy as np\n",
    "import pandas as pd\n",
    "current_path = os.getcwd()\n",
    "folder = \"MA\"\n",
    "path =  folder.join(current_path.split(folder)[:-1])+folder\n",
    "os.chdir(path)\n",
    "\n",
    "\n",
    "from Scenarios.scenario_types.BaseScenario import BaseScenario\n",
    "\n",
    "data_set = \"bafu5k.csv\"\n",
    "\n",
    "\n",
    "basescenario1 = BaseScenario(data_set , anomaly_type = \"growth\")"
   ]
  },
  {
   "cell_type": "code",
   "execution_count": 19,
   "id": "ecd14ffa",
   "metadata": {},
   "outputs": [
    {
     "data": {
      "text/plain": [
       "<AxesSubplot:>"
      ]
     },
     "execution_count": 19,
     "metadata": {},
     "output_type": "execute_result"
    },
    {
     "data": {
      "image/png": "[encoded data removed]",
      "text/plain": [
       "<Figure size 432x288 with 1 Axes>"
      ]
     },
     "metadata": {
      "needs_background": "light"
     },
     "output_type": "display_data"
    }
   ],
   "source": [
    "for name , train , test in basescenario1.name_train_test_iter:\n",
    "    truth , injected = train[\"truth\"].iloc[200:300,0] ,train[\"injected\"].iloc[200:300,0]\n",
    "    \n",
    "truth.plot()\n"
   ]
  },
  {
   "cell_type": "code",
   "execution_count": 20,
   "id": "be7344c4",
   "metadata": {},
   "outputs": [
    {
     "data": {
      "text/plain": [
       "<AxesSubplot:>"
      ]
     },
     "execution_count": 20,
     "metadata": {},
     "output_type": "execute_result"
    },
    {
     "data": {
      "image/png": "[encoded data removed]",
      "text/plain": [
       "<Figure size 432x288 with 1 Axes>"
      ]
     },
     "metadata": {
      "needs_background": "light"
     },
     "output_type": "display_data"
    }
   ],
   "source": [
    "injected[15:].plot()"
   ]
  },
  {
   "cell_type": "code",
   "execution_count": 17,
   "id": "6377dd1c",
   "metadata": {},
   "outputs": [],
   "source": [
    "#injected.iloc[15:].to_csv(\"outlier\")"
   ]
  },
  {
   "cell_type": "code",
   "execution_count": null,
   "id": "05cb1da3",
   "metadata": {},
   "outputs": [],
   "source": []
  },
  {
   "cell_type": "code",
   "execution_count": null,
   "id": "afd2903c",
   "metadata": {},
   "outputs": [],
   "source": []
  },
  {
   "cell_type": "code",
   "execution_count": null,
   "id": "eae32972",
   "metadata": {},
   "outputs": [],
   "source": []
  },
  {
   "cell_type": "code",
   "execution_count": null,
   "id": "d06f201c",
   "metadata": {
    "scrolled": true
   },
   "outputs": [],
   "source": []
  },
  {
   "cell_type": "code",
   "execution_count": null,
   "id": "6d63c394",
   "metadata": {},
   "outputs": [],
   "source": []
  },
  {
   "cell_type": "code",
   "execution_count": null,
   "id": "6b640b72",
   "metadata": {},
   "outputs": [],
   "source": []
  }
 ],
 "metadata": {
  "kernelspec": {
   "display_name": "Python 3 (ipykernel)",
   "language": "python",
   "name": "python3"
  },
  "language_info": {
   "codemirror_mode": {
    "name": "ipython",
    "version": 3
   },
   "file_extension": ".py",
   "mimetype": "text/x-python",
   "name": "python",
   "nbconvert_exporter": "python",
   "pygments_lexer": "ipython3",
   "version": "3.8.10"
  }
 },
 "nbformat": 4,
 "nbformat_minor": 5
}