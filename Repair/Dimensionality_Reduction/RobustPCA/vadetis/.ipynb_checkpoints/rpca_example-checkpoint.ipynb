{
 "cells": [
  {
   "cell_type": "code",
   "execution_count": 2,
   "metadata": {},
   "outputs": [],
   "source": [
    "import os\n",
    "current_path = os.getcwd()\n",
    "folder = \"MA\"\n",
    "path =  folder.join(current_path.split(folder)[:-1])+folder\n",
    "os.chdir(path)"
   ]
  },
  {
   "cell_type": "code",
   "execution_count": null,
   "metadata": {},
   "outputs": [],
   "source": [
    "import numpy as np\n",
    "import pandas as pd"
   ]
  },
  {
   "cell_type": "code",
   "execution_count": 25,
   "metadata": {},
   "outputs": [],
   "source": [
    "from Repair.Dimensionality_Reduction.RobustPCA.vadetis import HuberLoss, MRobustPCA\n",
    "\n",
    "delta = 1\n",
    "n_components = 2\n",
    "\n",
    "loss = HuberLoss(delta)\n",
    "v_pca = MRobustPCA(n_components,loss)"
   ]
  },
  {
   "cell_type": "code",
   "execution_count": 26,
   "metadata": {},
   "outputs": [
    {
     "data": {
      "text/plain": [
       "array([[ 6,  3,  3],\n",
       "       [-2,  2,  2],\n",
       "       [-7,  1, -5],\n",
       "       [-3,  1, -5],\n",
       "       [ 2, -4,  2]])"
      ]
     },
     "execution_count": 26,
     "metadata": {},
     "output_type": "execute_result"
    }
   ],
   "source": [
    "m = np.array([[6,3,3],[-2,2,2 ],[-7,1,-5],[-3,1,-5],[2,-4,2]])\n",
    "m"
   ]
  },
  {
   "cell_type": "code",
   "execution_count": 32,
   "metadata": {},
   "outputs": [
    {
     "data": {
      "text/plain": [
       "array([[ 5.86239645,  3.04603137,  3.19429612],\n",
       "       [-0.12402002,  1.3724441 , -0.64888239],\n",
       "       [-6.80435172,  0.93455142, -5.27625523],\n",
       "       [-4.09232823,  1.36540743, -3.45763332],\n",
       "       [ 1.94171945, -3.9805039 ,  2.08229209]])"
      ]
     },
     "execution_count": 32,
     "metadata": {},
     "output_type": "execute_result"
    }
   ],
   "source": [
    "transform  = v_pca.fit_transform(m)\n",
    "x_prime = v_pca.inverse_transform(transform)\n",
    "x_prime"
   ]
  },
  {
   "cell_type": "code",
   "execution_count": null,
   "metadata": {},
   "outputs": [],
   "source": []
  },
  {
   "cell_type": "code",
   "execution_count": null,
   "metadata": {},
   "outputs": [],
   "source": []
  }
 ],
 "metadata": {
  "kernelspec": {
   "display_name": "Python 3 (ipykernel)",
   "language": "python",
   "name": "python3"
  },
  "language_info": {
   "codemirror_mode": {
    "name": "ipython",
    "version": 3
   },
   "file_extension": ".py",
   "mimetype": "text/x-python",
   "name": "python",
   "nbconvert_exporter": "python",
   "pygments_lexer": "ipython3",
   "version": "3.8.10"
  }
 },
 "nbformat": 4,
 "nbformat_minor": 1
}
