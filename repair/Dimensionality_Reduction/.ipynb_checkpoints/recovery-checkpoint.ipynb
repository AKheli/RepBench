{
 "cells": [
  {
   "cell_type": "code",
   "execution_count": 51,
   "metadata": {},
   "outputs": [],
   "source": [
    "import os\n",
    "current_path = os.getcwd()\n",
    "folder = \"MA\"\n",
    "path =  folder.join(current_path.split(folder)[:-1])+folder\n",
    "os.chdir(path)"
   ]
  },
  {
   "cell_type": "code",
   "execution_count": 52,
   "metadata": {},
   "outputs": [],
   "source": [
    "import numpy as np\n",
    "import pandas as pd\n",
    "import statistics\n",
    "from Scenarios.scenario_types.BaseScenario import BaseScenario\n",
    "from Repair.Robust_PCA.robust_PCA_estimator import Robust_PCA_estimator  as  RP_old\n",
    "from sklearn.decomposition import PCA\n",
    "\n",
    "\n",
    "from matplotlib import pyplot as plt"
   ]
  },
  {
   "cell_type": "code",
   "execution_count": null,
   "metadata": {},
   "outputs": [
    {
     "name": "stdout",
     "output_type": "stream",
     "text": [
      "['theisplots\\\\IMR.eps', 'outputfile_2', 'run.py', 'bayesiancomp', 'thesisplots', 'ParameterTuning', '.gitignore', 'myfile.txt', 'IMR.eps', 'IMR.pgf', 'run_ressources', 'notebooks', 'Scenarios', '.git', 'data_methods', 'varanomsizeampBayesianOptimization.svg', 'A_questions', 'myfile.toml', '__pycache__', 'Injection', '.idea', 'Repair', 'searchresults.csv', 'install.sh', 'play.py', 'screen_example2', 'IMR.svg', 'Data', 'play2.py', 'error_ranking.py']\n",
      "Data/BAFU20K.txt\n"
     ]
    }
   ],
   "source": [
    "from Repair.cdrec.recovery import centroid_recovery\n",
    "\n",
    "scen = BaseScenario(\"BAFU20K.txt\")\n",
    "injected = scen.i_get_scenario(0)[\"injected\"].values\n",
    "truth = scen.i_get_scenario(0)[\"original\"].values\n",
    "anomaly_class = scen.i_get_scenario(0)[\"class\"].values\n",
    "\n"
   ]
  },
  {
   "cell_type": "code",
   "execution_count": 115,
   "metadata": {},
   "outputs": [
    {
     "ename": "TypeError",
     "evalue": "'int' object is not subscriptable",
     "output_type": "error",
     "traceback": [
      "\u001B[0;31m---------------------------------------------------------------------------\u001B[0m",
      "\u001B[0;31mTypeError\u001B[0m                                 Traceback (most recent call last)",
      "Input \u001B[0;32mIn [115]\u001B[0m, in \u001B[0;36m<module>\u001B[0;34m\u001B[0m\n\u001B[1;32m      4\u001B[0m cd_estim \u001B[38;5;241m=\u001B[39m CD_Rec_estimator(truncation\u001B[38;5;241m=\u001B[39m\u001B[38;5;241m2\u001B[39m , threshold \u001B[38;5;241m=\u001B[39m \u001B[38;5;241m0.1\u001B[39m)\n\u001B[1;32m      5\u001B[0m robust_estim \u001B[38;5;241m=\u001B[39m Robust_PCA_estimator(n_components\u001B[38;5;241m=\u001B[39m\u001B[38;5;241m2\u001B[39m, delta\u001B[38;5;241m=\u001B[39m\u001B[38;5;241m0.1\u001B[39m)\n\u001B[0;32m----> 9\u001B[0m \u001B[43mcd_estim\u001B[49m\u001B[38;5;241;43m.\u001B[39;49m\u001B[43mclassify\u001B[49m\u001B[43m(\u001B[49m\u001B[43minjected\u001B[49m\u001B[43m)\u001B[49m\n",
      "File \u001B[0;32m~/Desktop/MA/MA/Repair/Dimensionality_Reduction/CDrec/CDrecclassifier.py:38\u001B[0m, in \u001B[0;36mCD_Rec_estimator.classify\u001B[0;34m(self, matrix)\u001B[0m\n\u001B[1;32m     36\u001B[0m reduced \u001B[38;5;241m=\u001B[39m \u001B[38;5;28mself\u001B[39m\u001B[38;5;241m.\u001B[39mreduce(matrix)\n\u001B[1;32m     37\u001B[0m diff \u001B[38;5;241m=\u001B[39m matrix \u001B[38;5;241m-\u001B[39m reduced\n\u001B[0;32m---> 38\u001B[0m anomaly_matrix \u001B[38;5;241m=\u001B[39m \u001B[43mdifference_classify\u001B[49m\u001B[43m(\u001B[49m\u001B[43mdiff\u001B[49m\u001B[43m,\u001B[49m\u001B[43m \u001B[49m\u001B[38;5;28;43mself\u001B[39;49m\u001B[38;5;241;43m.\u001B[39;49m\u001B[43mthreshold\u001B[49m\u001B[43m)\u001B[49m\n\u001B[1;32m     39\u001B[0m \u001B[38;5;28;01mreturn\u001B[39;00m anomaly_matrix\n",
      "File \u001B[0;32m~/Desktop/MA/MA/Repair/Dimensionality_Reduction/difference_classifier.py:19\u001B[0m, in \u001B[0;36mdifference_classify\u001B[0;34m(diff_matrix, threshold)\u001B[0m\n\u001B[1;32m     16\u001B[0m anomaly_matrix \u001B[38;5;241m=\u001B[39m np\u001B[38;5;241m.\u001B[39mzeros_like(diff_matrix)\n\u001B[1;32m     18\u001B[0m \u001B[38;5;28;01mfor\u001B[39;00m i \u001B[38;5;129;01min\u001B[39;00m \u001B[38;5;28mrange\u001B[39m(m):\n\u001B[0;32m---> 19\u001B[0m     anomaly_matrix[:,i] \u001B[38;5;241m=\u001B[39m min_max(\u001B[43mm\u001B[49m\u001B[43m[\u001B[49m\u001B[43m:\u001B[49m\u001B[43m,\u001B[49m\u001B[43mi\u001B[49m\u001B[43m]\u001B[49m,threshold)\n\u001B[1;32m     21\u001B[0m \u001B[38;5;28;01mreturn\u001B[39;00m anomaly_matrix\n",
      "\u001B[0;31mTypeError\u001B[0m: 'int' object is not subscriptable"
     ]
    }
   ],
   "source": [
    "from Repair.Dimensionality_Reduction.RobustPCA.Robust_pca_estimator import Robust_PCA_estimator\n",
    "from Repair.Dimensionality_Reduction.CDrec.CDrecclassifier import CD_Rec_estimator\n",
    "\n",
    "cd_estim = CD_Rec_estimator(truncation=2 , threshold = 0.1)\n",
    "robust_estim = Robust_PCA_estimator(n_components=2, delta=0.1)\n",
    "\n",
    "\n",
    "\n",
    "cd_estim.classify(injected)"
   ]
  },
  {
   "cell_type": "code",
   "execution_count": 109,
   "metadata": {},
   "outputs": [
    {
     "name": "stdout",
     "output_type": "stream",
     "text": [
      "2.408774728426812\n"
     ]
    }
   ],
   "source": []
  },
  {
   "cell_type": "code",
   "execution_count": null,
   "metadata": {},
   "outputs": [],
   "source": []
  },
  {
   "cell_type": "code",
   "execution_count": null,
   "metadata": {},
   "outputs": [],
   "source": []
  }
 ],
 "metadata": {
  "kernelspec": {
   "display_name": "Python 3 (ipykernel)",
   "language": "python",
   "name": "python3"
  },
  "language_info": {
   "codemirror_mode": {
    "name": "ipython",
    "version": 3
   },
   "file_extension": ".py",
   "mimetype": "text/x-python",
   "name": "python",
   "nbconvert_exporter": "python",
   "pygments_lexer": "ipython3",
   "version": "3.8.10"
  }
 },
 "nbformat": 4,
 "nbformat_minor": 1
}