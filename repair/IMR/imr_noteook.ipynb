{
 "cells": [
  {
   "cell_type": "code",
   "execution_count": 1,
   "metadata": {},
   "outputs": [],
   "source": [
    "import os\n",
    "current_path = os.getcwd()\n",
    "folder = \"MA\"\n",
    "path =  folder.join(current_path.split(folder)[:-1])+folder\n",
    "os.chdir(path)"
   ]
  },
  {
   "cell_type": "code",
   "execution_count": 2,
   "metadata": {},
   "outputs": [],
   "source": [
    "import matplotlib.pyplot as plt\n",
    "plt.rcParams.update({\n",
    "\n",
    "    \"pgf.texsystem\": \"pdflatex\",\n",
    "    'font.family': 'serif',\n",
    "    'text.usetex': True,\n",
    "    'pgf.rcfonts': False,\n",
    "})\n",
    "from Scenarios.scenario_types.BaseScenario import BaseScenario\n",
    "from Scenarios.Anomaly_Types import *\n",
    "import pandas as pd\n",
    "import numpy as np"
   ]
  },
  {
   "cell_type": "code",
   "execution_count": 3,
   "metadata": {},
   "outputs": [
    {
     "name": "stdout",
     "output_type": "stream",
     "text": [
      "['theisplots\\\\IMR.eps', 'outputfile_2', 'run.py', 'bayesiancomp', 'thesisplots', 'ParameterTuning', '.gitignore', 'myfile.txt', 'IMR.eps', 'IMR.pgf', 'run_ressources', 'Scenarios', '.git', 'data_methods', 'varanomsizeampBayesianOptimization.svg', 'A_questions', 'myfile.toml', '__pycache__', 'Injection', '.idea', 'Repair', 'searchresults.csv', 'install.sh', 'play.py', 'IMR.svg', 'Data', 'play2.py', 'error_ranking.py']\n",
      "Data/stock10k.data\n",
      "       5.63.1\n",
      "0        5.63\n",
      "1        5.75\n",
      "2        5.75\n",
      "3        5.75\n",
      "4        5.75\n",
      "...       ...\n",
      "12818   77.71\n",
      "12819   77.80\n",
      "12820   76.20\n",
      "12821   78.79\n",
      "12822   78.80\n",
      "\n",
      "[12823 rows x 1 columns]\n"
     ]
    }
   ],
   "source": [
    "anomaly_type = AMPLITUDE_SHIFT\n",
    "anomaly_dict = {\"anomaly_type\" : anomaly_type , \"anomaly_length\" : 12}\n",
    "\n",
    "\n",
    "injected_scenario = BaseScenario(\"stock10k.data\",\n",
    "                                 anomaly_dict = anomaly_dict,\n",
    "                                 train_test_split=0.1,\n",
    "                                cols_to_inject=[0],\n",
    "                                data_columns = 2)\n"
   ]
  },
  {
   "cell_type": "code",
   "execution_count": 4,
   "metadata": {},
   "outputs": [],
   "source": [
    "class_ = injected_scenario.scenarios['full_set'][\"class\"]"
   ]
  },
  {
   "cell_type": "code",
   "execution_count": 5,
   "metadata": {},
   "outputs": [],
   "source": [
    "scen_part = injected_scenario.i_get_scenario(0)"
   ]
  },
  {
   "cell_type": "code",
   "execution_count": 6,
   "metadata": {},
   "outputs": [],
   "source": [
    "injected , truth = scen_part[\"injected\"] , scen_part[\"original\"]"
   ]
  },
  {
   "cell_type": "code",
   "execution_count": 7,
   "metadata": {},
   "outputs": [],
   "source": [
    "from Repair.IMR.imr_repair import IMR_repair\n",
    "\n",
    "repair_output = IMR_repair(injected,truth , params={\"p\":10,\"tau\" : 1})"
   ]
  },
  {
   "cell_type": "code",
   "execution_count": 8,
   "metadata": {},
   "outputs": [],
   "source": [
    "repair = repair_output[\"repair\"]\n",
    "labels = repair_output[\"labels\"]"
   ]
  },
  {
   "cell_type": "code",
   "execution_count": 9,
   "metadata": {},
   "outputs": [
    {
     "data": {
      "image/png": "[encoded data removed]",
      "text/plain": [
       "<Figure size 432x288 with 1 Axes>"
      ]
     },
     "metadata": {
      "needs_background": "light"
     },
     "output_type": "display_data"
    }
   ],
   "source": [
    "anomaly_indexes = injected_scenario.injected_anomaly_indexes()[0]\n",
    "start,end = anomaly_indexes[0]-10 , anomaly_indexes[-1]+10\n",
    "\n",
    "\n",
    "plt.plot(injected.iloc[start:end,:],color=\"red\",ls=\"dashed\")\n",
    "\n",
    "plt.plot(repair.iloc[start:end,:])\n",
    "\n",
    "for i in labels:\n",
    "    if i >= end:\n",
    "        break\n",
    "        \n",
    "    if i >= start:\n",
    "        plt.plot(repair.index[i],repair.iloc[i,:] , color = \"green\" , marker = \"x\")\n",
    "   \n",
    "        \n",
    "plt.plot(truth.iloc[start:end,:],color=\"black\")\n",
    "plt.show()\n",
    "\n"
   ]
  },
  {
   "cell_type": "code",
   "execution_count": 10,
   "metadata": {},
   "outputs": [
    {
     "data": {
      "text/plain": [
       "array([159, 160, 169, 176, 177, 178, 185, 199, 205, 209, 228, 229, 230,\n",
       "       235, 244, 249, 254, 255, 261, 262, 265, 267, 271, 273, 288, 289,\n",
       "       290, 291, 302, 312, 328])"
      ]
     },
     "execution_count": 10,
     "metadata": {},
     "output_type": "execute_result"
    }
   ],
   "source": [
    "#repair[start:end]\n",
    "labels[start:end]"
   ]
  },
  {
   "cell_type": "code",
   "execution_count": 11,
   "metadata": {},
   "outputs": [],
   "source": [
    "### paper example "
   ]
  },
  {
   "cell_type": "code",
   "execution_count": 12,
   "metadata": {},
   "outputs": [
    {
     "name": "stdout",
     "output_type": "stream",
     "text": [
      "terminated after 10 iterations\n"
     ]
    }
   ],
   "source": [
    "injected = pd.DataFrame([6, 10, 9.6, 8.3, 7.7, 5.4, 5.6, 5.9, 6.3,6.8,7.5, 8.5])\n",
    "truth    = pd.DataFrame([6, 5.6, 5.4, 5.1, 5.4, 5.4, 5.6, 5.9, 6.3, 6.8, 7.5, 8.5])\n",
    "labels = np.array([1,2,3,6,12])-1\n",
    "repair = IMR_repair(injected,truth , params={\"p\":1,\"tau\" : 0.01},labels=labels)[\"repair\"]"
   ]
  },
  {
   "cell_type": "code",
   "execution_count": 23,
   "metadata": {},
   "outputs": [
    {
     "name": "stderr",
     "output_type": "stream",
     "text": [
      "The PostScript backend does not support transparency; partially transparent artists will be rendered opaque.\n",
      "The PostScript backend does not support transparency; partially transparent artists will be rendered opaque.\n"
     ]
    },
    {
     "data": {
      "image/png": "[encoded data removed]",
      "text/plain": [
       "<Figure size 648x288 with 1 Axes>"
      ]
     },
     "metadata": {
      "needs_background": "light"
     },
     "output_type": "display_data"
    }
   ],
   "source": [
    "\n",
    "\n",
    "plt.figure(figsize=(9,4))\n",
    "\n",
    "plt.plot(injected,color=\"red\",ls=\"dashed\" , label = \"Observation\")\n",
    "plt.plot(repair,label = \"IMR\",marker = \"x\" ,ms=8)\n",
    "plt.plot(truth , color = \"black\",ls=\"dashed\", label = \"Truth\")\n",
    "\n",
    "\n",
    "\n",
    "for i in labels:\n",
    "        plt.plot(repair.index[i],truth.iloc[i,:] , color = \"green\" ,\n",
    "                 ms=10, marker = \"o\", mfc='none', ls=\" \", label = \"Labels\" if i == labels[0] else None)\n",
    "   \n",
    "        \n",
    "#plt.plot(truth.iloc[start:end,:],color=\"black\")\n",
    "\n",
    "plt.xlabel(\"Time\", fontsize=12)\n",
    "plt.ylabel(\"Value\", fontsize=12)\n",
    "plt.tight_layout()\n",
    "plt.legend()\n",
    "plt.savefig(\"thesisplots/IMR_example.eps\")"
   ]
  },
  {
   "cell_type": "code",
   "execution_count": 14,
   "metadata": {},
   "outputs": [],
   "source": [
    "### how \"pretty\" should examples be?"
   ]
  }
 ],
 "metadata": {
  "kernelspec": {
   "display_name": "Python 3 (ipykernel)",
   "language": "python",
   "name": "python3"
  },
  "language_info": {
   "codemirror_mode": {
    "name": "ipython",
    "version": 3
   },
   "file_extension": ".py",
   "mimetype": "text/x-python",
   "name": "python",
   "nbconvert_exporter": "python",
   "pygments_lexer": "ipython3",
   "version": "3.8.10"
  }
 },
 "nbformat": 4,
 "nbformat_minor": 1
}
