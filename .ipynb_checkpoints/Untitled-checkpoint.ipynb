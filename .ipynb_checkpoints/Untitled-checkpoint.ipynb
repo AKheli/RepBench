{
 "cells": [
  {
   "cell_type": "code",
   "execution_count": null,
   "id": "433736d1",
   "metadata": {},
   "outputs": [],
   "source": [
    "import numpy as np \n",
    "import pandas as pd\n",
    "\n",
    "#%%\n",
    "\n",
    "from Repair.repair_algorithm import RepairAlgorithm\n",
    "import numpy as np \n",
    "import pandas as pd\n",
    "\n",
    "\n",
    "repair_alg = RepairAlgorithm(\"cdrec\" , [0])\n",
    "\n",
    "\n"
   ]
  }
 ],
 "metadata": {
  "kernelspec": {
   "display_name": "Python 3 (ipykernel)",
   "language": "python",
   "name": "python3"
  },
  "language_info": {
   "codemirror_mode": {
    "name": "ipython",
    "version": 3
   },
   "file_extension": ".py",
   "mimetype": "text/x-python",
   "name": "python",
   "nbconvert_exporter": "python",
   "pygments_lexer": "ipython3",
   "version": "3.8.10"
  }
 },
 "nbformat": 4,
 "nbformat_minor": 5
}
