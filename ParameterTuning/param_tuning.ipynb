{
 "cells": [
  {
   "cell_type": "code",
   "execution_count": 1,
   "metadata": {},
   "outputs": [],
   "source": [
    "import os\n",
    "current_path = os.getcwd()\n",
    "folder = \"MA\"\n",
    "path =  folder.join(current_path.split(folder)[:-1])+folder\n",
    "os.chdir(path)"
   ]
  },
  {
   "cell_type": "code",
   "execution_count": 2,
   "metadata": {},
   "outputs": [],
   "source": [
    "import numpy as np\n",
    "import pandas as pd\n",
    "from matplotlib import pyplot as plt\n",
    "from sklearn.experimental import enable_halving_search_cv  # noqa\n",
    "\n",
    "from Injection.inject import scenario_inject\n",
    "from ParameterTuning.param_tuner import ParamTuner\n",
    "from Repair.Robust_PCA.robust_PCA_estimator import Robust_PCA_estimator\n",
    "from Scenarios.Anomaly_Types import *\n",
    "from Scenarios.scenario_types.Scenario_Constructor_mapper import SCENARIO_CONSTRUCTORS\n",
    "from Scenarios.scenario_types.Scenario_Types import *\n",
    "from data_methods.Helper_methods import get_df_from_file\n",
    "\n",
    "from ParameterTuning.dummy_search import Dummy_Search\n",
    "from ParameterTuning.gridsearch import Grid_Search\n",
    "import numpy as np\n",
    "import pandas as pd\n",
    "from matplotlib import pyplot as plt\n",
    "from sklearn.experimental import enable_halving_search_cv  # noqa\n",
    "from sklearn.model_selection import HalvingGridSearchCV, GridSearchCV, StratifiedKFold, KFold, LeaveOneOut\n",
    "from skopt import BayesSearchCV\n",
    "\n",
    "from ParameterTuning.sklearn_bayesian import BayesianOptimization\n",
    "from Repair.res.timer import Timer"
   ]
  },
  {
   "cell_type": "code",
   "execution_count": 3,
   "metadata": {},
   "outputs": [],
   "source": [
    "injection_scenario = SCENARIO_CONSTRUCTORS[BASE_SCENARIO]\n",
    "\n",
    "anomaly_type = DISTORTION\n",
    "\n",
    "data_files = [\"YAHOO.csv\",\"TemperatureTS8.csv\",\"Humidity.csv\",\"BAFU20K.txt\"]  \n",
    "# , , \"motion_normal.txt\", \"TemperatureTS8.csv\", \"BAFU.txt\",\"batch10.txt\"]\n"
   ]
  },
  {
   "cell_type": "code",
   "execution_count": 4,
   "metadata": {},
   "outputs": [],
   "source": [
    "param_grid = {\n",
    "    \"n_components\": [1,2,3,4,5,6], #1, 2, 3, 4,5,6,7],  # , 4, 5, 6],\n",
    "    \"delta\": [0.01] #np.linspace(0.001,1,num=5),\n",
    "    #\"interpolate_anomalies\": [True],\n",
    "    # \"component_method\": [\"TruncatedSVD\"]\n",
    "}"
   ]
  },
  {
   "cell_type": "code",
   "execution_count": 5,
   "metadata": {},
   "outputs": [
    {
     "name": "stdout",
     "output_type": "stream",
     "text": [
      "['outputfile_2', 'run.py', 'bayesiancomp', 'ParameterTuning', '.gitignore', 'myfile.txt', 'run_ressources', 'Scenarios', '.git', 'data_methods', 'varanomsizeampBayesianOptimization.svg', 'A_questions', 'myfile.toml', '__pycache__', 'Injection', '.idea', 'Repair', 'searchresults.csv', 'install.sh', 'play.py', 'Data', 'play2.py', 'error_ranking.py']\n",
      "Data/YAHOO.csv\n",
      "['outputfile_2', 'run.py', 'bayesiancomp', 'ParameterTuning', '.gitignore', 'myfile.txt', 'run_ressources', 'Scenarios', '.git', 'data_methods', 'varanomsizeampBayesianOptimization.svg', 'A_questions', 'myfile.toml', '__pycache__', 'Injection', '.idea', 'Repair', 'searchresults.csv', 'install.sh', 'play.py', 'Data', 'play2.py', 'error_ranking.py']\n",
      "Data/TemperatureTS8.csv\n",
      "['outputfile_2', 'run.py', 'bayesiancomp', 'ParameterTuning', '.gitignore', 'myfile.txt', 'run_ressources', 'Scenarios', '.git', 'data_methods', 'varanomsizeampBayesianOptimization.svg', 'A_questions', 'myfile.toml', '__pycache__', 'Injection', '.idea', 'Repair', 'searchresults.csv', 'install.sh', 'play.py', 'Data', 'play2.py', 'error_ranking.py']\n",
      "Data/Humidity.csv\n",
      "['outputfile_2', 'run.py', 'bayesiancomp', 'ParameterTuning', '.gitignore', 'myfile.txt', 'run_ressources', 'Scenarios', '.git', 'data_methods', 'varanomsizeampBayesianOptimization.svg', 'A_questions', 'myfile.toml', '__pycache__', 'Injection', '.idea', 'Repair', 'searchresults.csv', 'install.sh', 'play.py', 'Data', 'play2.py', 'error_ranking.py']\n",
      "Data/BAFU20K.txt\n"
     ]
    },
    {
     "data": {
      "text/plain": [
       "[<Scenarios.scenario_types.BaseScenario.BaseScenario at 0x7f7a5c5cea90>,\n",
       " <Scenarios.scenario_types.BaseScenario.BaseScenario at 0x7f79f4e54f10>,\n",
       " <Scenarios.scenario_types.BaseScenario.BaseScenario at 0x7f7a5c5cedc0>,\n",
       " <Scenarios.scenario_types.BaseScenario.BaseScenario at 0x7f7a54065c70>]"
      ]
     },
     "execution_count": 5,
     "metadata": {},
     "output_type": "execute_result"
    }
   ],
   "source": [
    "scenarios = []\n",
    "\n",
    "for file_name in data_files:\n",
    "    scenarios.append(injection_scenario(file_name, {\"anomaly_type\" : anomaly_type ,\"anomaly_percentage\" : 20 }, train_test_split=0.5))\n",
    "scenarios"
   ]
  },
  {
   "cell_type": "code",
   "execution_count": 6,
   "metadata": {},
   "outputs": [],
   "source": [
    "### tuners \n",
    "n_jobs = -1\n",
    "\n",
    "ba =  BayesianOptimization(Robust_PCA_estimator(cols=[0]), param_grid, n_jobs=n_jobs)\n",
    "gr =  GridSearchCV(Robust_PCA_estimator(cols=[0]), param_grid, n_jobs=n_jobs)\n",
    "\n",
    "\n",
    "\n",
    "\n"
   ]
  },
  {
   "cell_type": "code",
   "execution_count": 7,
   "metadata": {},
   "outputs": [
    {
     "name": "stdout",
     "output_type": "stream",
     "text": [
      "{'train_error': {'original_error': 569.282, 'error': 79.505, 'ratio': 0.13965837669204365}, 'train_time': 2.0922200679779053, 'params': {'delta': 0.01, 'n_components': 2}, 'estimator': Robust_PCA_estimator(threshold=2.05), 'scenario_errors': {'full_set': {'original_error': 577.594, 'error': 183.202, 'ratio': 0.3171812726586495}}}\n",
      "{'train_error': {'original_error': 2.682, 'error': 0.588, 'ratio': 0.2192393736017897}, 'train_time': 1.005836009979248, 'params': {'delta': 0.01, 'n_components': 1}, 'estimator': Robust_PCA_estimator(n_components=1, threshold=2.05), 'scenario_errors': {'full_set': {'original_error': 2.969, 'error': 0.901, 'ratio': 0.30346918154260694}}}\n",
      "{'train_error': {'original_error': 0.926, 'error': 0.31, 'ratio': 0.33477321814254857}, 'train_time': 1.092799425125122, 'params': {'delta': 0.01, 'n_components': 1}, 'estimator': Robust_PCA_estimator(n_components=1, threshold=2.05), 'scenario_errors': {'full_set': {'original_error': 1.252, 'error': 0.45, 'ratio': 0.35942492012779553}}}\n",
      "{'train_error': {'original_error': 0.03, 'error': 0.03, 'ratio': 1.0}, 'train_time': 5.42522668838501, 'params': {'delta': 0.01, 'n_components': 4}, 'estimator': Robust_PCA_estimator(n_components=4, threshold=2.05), 'scenario_errors': {'full_set': {'original_error': 0.185, 'error': 0.046, 'ratio': 0.24864864864864863}}}\n"
     ]
    }
   ],
   "source": [
    "for scen in scenarios:\n",
    "    print(scen.optimize(gr,\"bayesian\"))\n"
   ]
  },
  {
   "cell_type": "code",
   "execution_count": 8,
   "metadata": {
    "scrolled": true
   },
   "outputs": [
    {
     "name": "stdout",
     "output_type": "stream",
     "text": [
      "{'bayesian': {'train_error': {'original_error': 569.282, 'error': 79.505, 'ratio': 0.13965837669204365}, 'train_time': 2.0922200679779053, 'params': {'delta': 0.01, 'n_components': 2}, 'estimator': Robust_PCA_estimator(threshold=2.05), 'scenario_errors': {'full_set': {'original_error': 577.594, 'error': 183.202, 'ratio': 0.3171812726586495}}}}\n",
      "{'bayesian': {'train_error': {'original_error': 2.682, 'error': 0.588, 'ratio': 0.2192393736017897}, 'train_time': 1.005836009979248, 'params': {'delta': 0.01, 'n_components': 1}, 'estimator': Robust_PCA_estimator(n_components=1, threshold=2.05), 'scenario_errors': {'full_set': {'original_error': 2.969, 'error': 0.901, 'ratio': 0.30346918154260694}}}}\n",
      "{'bayesian': {'train_error': {'original_error': 0.926, 'error': 0.31, 'ratio': 0.33477321814254857}, 'train_time': 1.092799425125122, 'params': {'delta': 0.01, 'n_components': 1}, 'estimator': Robust_PCA_estimator(n_components=1, threshold=2.05), 'scenario_errors': {'full_set': {'original_error': 1.252, 'error': 0.45, 'ratio': 0.35942492012779553}}}}\n",
      "{'bayesian': {'train_error': {'original_error': 0.03, 'error': 0.03, 'ratio': 1.0}, 'train_time': 5.42522668838501, 'params': {'delta': 0.01, 'n_components': 4}, 'estimator': Robust_PCA_estimator(n_components=4, threshold=2.05), 'scenario_errors': {'full_set': {'original_error': 0.185, 'error': 0.046, 'ratio': 0.24864864864864863}}}}\n"
     ]
    }
   ],
   "source": [
    "for scen in scenarios:\n",
    "    print(scen.opt_results)\n"
   ]
  },
  {
   "cell_type": "code",
   "execution_count": 9,
   "metadata": {},
   "outputs": [],
   "source": [
    "estims = []\n",
    "for scen in scenarios:\n",
    "    estims += [v[\"estimator\"].exaplained_variance[0] for k,v in scen.opt_results.items()]\n",
    "    estims += [v[\"estimator\"].exaplained_variance[-1] for k,v in scen.opt_results.items()]\n",
    "    estims += [v[\"estimator\"].exaplained_variance[-1]-v[\"estimator\"].exaplained_variance[0] for k,v in scen.opt_results.items()]\n",
    "    estims += [v[\"train_error\"] for k,v in scen.opt_results.items()]\n",
    "    #estims += [v[\"scenario_errors\"] for k,v in scen.opt_results.items()]\n",
    "\n"
   ]
  },
  {
   "cell_type": "code",
   "execution_count": 10,
   "metadata": {
    "scrolled": true
   },
   "outputs": [
    {
     "data": {
      "text/plain": [
       "[0.9690425009956303,\n",
       " 0.9892925093311418,\n",
       " 0.020250008335511493,\n",
       " {'original_error': 569.282, 'error': 79.505, 'ratio': 0.13965837669204365},\n",
       " 0.8481510471778335,\n",
       " 0.9109412372575503,\n",
       " 0.06279019007971676,\n",
       " {'original_error': 2.682, 'error': 0.588, 'ratio': 0.2192393736017897},\n",
       " 0.6050826194516491,\n",
       " 0.6956224820182397,\n",
       " 0.09053986256659063,\n",
       " {'original_error': 0.926, 'error': 0.31, 'ratio': 0.33477321814254857},\n",
       " 0.9462418461091161,\n",
       " 0.9807294065653012,\n",
       " 0.03448756045618506,\n",
       " {'original_error': 0.03, 'error': 0.03, 'ratio': 1.0}]"
      ]
     },
     "execution_count": 10,
     "metadata": {},
     "output_type": "execute_result"
    }
   ],
   "source": [
    "estims"
   ]
  },
  {
   "cell_type": "code",
   "execution_count": null,
   "metadata": {
    "scrolled": false
   },
   "outputs": [
    {
     "name": "stdout",
     "output_type": "stream",
     "text": [
      "{'delta': 0.004, 'n_components': 0}\n",
      "{'delta': 0.004, 'n_components': 0}\n",
      "{'delta': 0.004, 'n_components': 0}\n",
      "{'delta': 0.004, 'n_components': 0}\n",
      "([0], [1.7197540059232506], [1.6702164496168588], [1])\n",
      "([0], [1.2412378821774797], [1.7948804311215898], [1])\n",
      "([0], [0.5259179265658747], [0.8554313099041533], [1])\n",
      "([0], [0.8], [0.3081081081081081], [1])\n",
      "\n",
      "\n",
      "{'delta': 0.004, 'n_components': 1}\n",
      "{'delta': 0.004, 'n_components': 1}\n",
      "{'delta': 0.004, 'n_components': 1}\n",
      "{'delta': 0.004, 'n_components': 1}\n",
      "([0.03080958275931034], [0.12811576687827825], [0.3231266252765783], [0.037962090992370134])\n",
      "([0.06279019007971598], [0.2192393736017897], [0.30346918154260694], [0.09274020538429739])\n",
      "([0.09053986256659019], [0.33477321814254857], [0.35942492012779553], [0.31822937406360197])\n",
      "([0.11244369687951816], [0.8666666666666667], [0.25405405405405407], [0.10629112654002437])\n",
      "\n",
      "\n",
      "{'delta': 0.004, 'n_components': 2}\n",
      "{'delta': 0.004, 'n_components': 2}\n",
      "{'delta': 0.004, 'n_components': 2}\n",
      "{'delta': 0.004, 'n_components': 2}\n",
      "([0.020250008335511827], [0.13965837669204365], [0.3171812726586495], [0.023522453547281774])\n",
      "([0.01645550736542878], [1.3799403430275914], [1.802963960929606], [0.05429439661553093])\n",
      "([0.02735641805175404], [0.9503239740820734], [1.2236421725239617], [0.20067344725710656])\n",
      "([0.08140279485868218], [1.0], [0.24864864864864863], [0.06485753008855588])\n",
      "\n",
      "\n",
      "{'delta': 0.004, 'n_components': 3}\n",
      "{'delta': 0.004, 'n_components': 3}\n",
      "{'delta': 0.004, 'n_components': 3}\n",
      "{'delta': 0.004, 'n_components': 3}\n",
      "([0.006147340026481096], [0.9446636289220456], [0.9913814894199038], [0.0052223350150444325])\n",
      "([0.01424773960695247], [1.2464578672632365], [1.6261367463792524], [0.031741704317164166])\n",
      "([0.016795254455662656], [0.9006479481641468], [1.1940894568690097], [0.14388443223865544])\n",
      "([0.056719789858481806], [1.0], [0.24864864864864863], [0.04419714117927387])\n",
      "\n",
      "\n",
      "{'delta': 0.004, 'n_components': 4}\n",
      "{'delta': 0.004, 'n_components': 4}\n",
      "{'delta': 0.004, 'n_components': 4}\n",
      "{'delta': 0.004, 'n_components': 4}\n",
      "([0.0009610425717442306], [1.1128579508925276], [1.3990536605297146], [0.00019155641311585647])\n",
      "([0.0076727524416062565], [1.168158090976883], [1.0124621084540248], [0.014401704041082208])\n",
      "([0.023031125784861994], [0.9416846652267818], [0.9297124600638977], [0.09714881839070832])\n",
      "([0.03448756045618617], [1.0], [0.24864864864864863], [0.038633438963637357])\n",
      "\n",
      "\n",
      "{'delta': 0.004, 'n_components': 5}\n",
      "{'delta': 0.004, 'n_components': 5}\n",
      "{'delta': 0.004, 'n_components': 5}\n"
     ]
    }
   ],
   "source": [
    "n_jobs = -1\n",
    "for i in range(7):\n",
    "    param_grid = {\n",
    "    \"n_components\": [i], #1, 2, 3, 4,5,6,7],  # , 4, 5, 6],\n",
    "    \"delta\": [0.004] #np.linspace(0.001,1,num=5),\n",
    "    #\"interpolate_anomalies\": [True],\n",
    "    # \"component_method\": [\"TruncatedSVD\"]\n",
    "    }\n",
    "\n",
    "    gr =  GridSearchCV(Robust_PCA_estimator(cols=[0]), param_grid, n_jobs=n_jobs)\n",
    "\n",
    "    for scen in scenarios:\n",
    "        out = scen.optimize(gr,\"bayesian\")\n",
    "        print(out[\"params\"])\n",
    "        \n",
    "    estims = []\n",
    "    for scen in scenarios:\n",
    "        estims += [ ([v[\"estimator\"].exaplained_variance[-1]-v[\"estimator\"].exaplained_variance[0] \n",
    "                   for k,v in scen.opt_results.items()],\n",
    "                    [v[\"train_error\"][\"ratio\"] for k,v in scen.opt_results.items()],\n",
    "                  [list(v[\"scenario_errors\"].values())[0][\"ratio\"] for k,v in scen.opt_results.items()],\n",
    "                  [v[\"estimator\"].exaplained_variance[-1]+1-2*v[\"estimator\"].exaplained_variance[1] \n",
    "                   for k,v in scen.opt_results.items()]  )]\n",
    "    for e in estims:\n",
    "        print(e)\n",
    "    print(\"\\n\")"
   ]
  },
  {
   "cell_type": "code",
   "execution_count": null,
   "metadata": {},
   "outputs": [],
   "source": []
  },
  {
   "cell_type": "code",
   "execution_count": null,
   "metadata": {},
   "outputs": [],
   "source": []
  }
 ],
 "metadata": {
  "kernelspec": {
   "display_name": "Python 3 (ipykernel)",
   "language": "python",
   "name": "python3"
  },
  "language_info": {
   "codemirror_mode": {
    "name": "ipython",
    "version": 3
   },
   "file_extension": ".py",
   "mimetype": "text/x-python",
   "name": "python",
   "nbconvert_exporter": "python",
   "pygments_lexer": "ipython3",
   "version": "3.8.10"
  }
 },
 "nbformat": 4,
 "nbformat_minor": 1
}
