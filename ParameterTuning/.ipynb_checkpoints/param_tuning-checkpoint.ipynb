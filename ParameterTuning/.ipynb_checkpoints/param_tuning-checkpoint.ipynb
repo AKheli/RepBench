{
 "cells": [
  {
   "cell_type": "code",
   "execution_count": 1,
   "metadata": {},
   "outputs": [],
   "source": [
    "import os\n",
    "current_path = os.getcwd()\n",
    "folder = \"MA\"\n",
    "path =  folder.join(current_path.split(folder)[:-1])+folder\n",
    "os.chdir(path)"
   ]
  },
  {
   "cell_type": "code",
   "execution_count": 2,
   "metadata": {},
   "outputs": [],
   "source": [
    "import numpy as np\n",
    "import pandas as pd\n",
    "from matplotlib import pyplot as plt\n",
    "from sklearn.experimental import enable_halving_search_cv  # noqa\n",
    "\n",
    "from Injection.inject import scenario_inject\n",
    "from ParameterTuning.param_tuner import ParamTuner\n",
    "from Repair.Robust_PCA.robust_PCA_estimator import Robust_PCA_estimator\n",
    "from Scenarios.Anomaly_Types import *\n",
    "from Scenarios.scenario_types.Scenario_Constructor_mapper import SCENARIO_CONSTRUCTORS\n",
    "from Scenarios.scenario_types.Scenario_Types import *\n",
    "from data_methods.Helper_methods import get_df_from_file\n",
    "\n",
    "from ParameterTuning.dummy_search import Dummy_Search\n",
    "from ParameterTuning.gridsearch import Grid_Search\n",
    "import numpy as np\n",
    "import pandas as pd\n",
    "from matplotlib import pyplot as plt\n",
    "from sklearn.experimental import enable_halving_search_cv  # noqa\n",
    "from sklearn.model_selection import HalvingGridSearchCV, GridSearchCV, StratifiedKFold, KFold, LeaveOneOut\n",
    "from skopt import BayesSearchCV\n",
    "\n",
    "from ParameterTuning.sklearn_bayesian import BayesianOptimization\n",
    "from Repair.res.timer import Timer"
   ]
  },
  {
   "cell_type": "code",
   "execution_count": 3,
   "metadata": {},
   "outputs": [],
   "source": [
    "injection_scenario = SCENARIO_CONSTRUCTORS[BASE_SCENARIO]\n",
    "\n",
    "anomaly_type = AMPLITUDE_SHIFT\n",
    "\n",
    "data_files = [\"YAHOO.csv\",\"TemperatureTS8.csv\",\"BAFU20K.txt\"]  \n",
    "# , , \"motion_normal.txt\", \"TemperatureTS8.csv\", \"BAFU.txt\",\"batch10.txt\"]\n"
   ]
  },
  {
   "cell_type": "code",
   "execution_count": 4,
   "metadata": {},
   "outputs": [],
   "source": [
    "param_grid = {\n",
    "    \"n_components\": [4], #1, 2, 3, 4,5,6,7],  # , 4, 5, 6],\n",
    "    \"delta\": [0.01] #np.linspace(0.001,1,num=5),\n",
    "    #\"interpolate_anomalies\": [True],\n",
    "    # \"component_method\": [\"TruncatedSVD\"]\n",
    "}"
   ]
  },
  {
   "cell_type": "code",
   "execution_count": 5,
   "metadata": {},
   "outputs": [
    {
     "name": "stdout",
     "output_type": "stream",
     "text": [
      "['outputfile_2', 'run.py', 'bayesiancomp', 'ParameterTuning', '.gitignore', 'myfile.txt', 'run_ressources', 'Scenarios', '.git', 'data_methods', 'varanomsizeampBayesianOptimization.svg', 'A_questions', 'myfile.toml', '__pycache__', 'Injection', '.idea', 'Repair', 'searchresults.csv', 'install.sh', 'play.py', 'Data', 'play2.py', 'error_ranking.py']\n",
      "Data/YAHOO.csv\n",
      "['outputfile_2', 'run.py', 'bayesiancomp', 'ParameterTuning', '.gitignore', 'myfile.txt', 'run_ressources', 'Scenarios', '.git', 'data_methods', 'varanomsizeampBayesianOptimization.svg', 'A_questions', 'myfile.toml', '__pycache__', 'Injection', '.idea', 'Repair', 'searchresults.csv', 'install.sh', 'play.py', 'Data', 'play2.py', 'error_ranking.py']\n",
      "Data/TemperatureTS8.csv\n",
      "['outputfile_2', 'run.py', 'bayesiancomp', 'ParameterTuning', '.gitignore', 'myfile.txt', 'run_ressources', 'Scenarios', '.git', 'data_methods', 'varanomsizeampBayesianOptimization.svg', 'A_questions', 'myfile.toml', '__pycache__', 'Injection', '.idea', 'Repair', 'searchresults.csv', 'install.sh', 'play.py', 'Data', 'play2.py', 'error_ranking.py']\n",
      "Data/BAFU20K.txt\n"
     ]
    },
    {
     "data": {
      "text/plain": [
       "[<Scenarios.scenario_types.BaseScenario.BaseScenario at 0x7f1dac6b2670>,\n",
       " <Scenarios.scenario_types.BaseScenario.BaseScenario at 0x7f1d477f9160>,\n",
       " <Scenarios.scenario_types.BaseScenario.BaseScenario at 0x7f1dac6b2ca0>]"
      ]
     },
     "execution_count": 5,
     "metadata": {},
     "output_type": "execute_result"
    }
   ],
   "source": [
    "scenarios = []\n",
    "\n",
    "for file_name in data_files:\n",
    "    scenarios.append(injection_scenario(file_name, {\"anomaly_type\" : anomaly_type ,\"anomaly_percentage\" : 10 }, train_test_split=0.5))\n",
    "scenarios"
   ]
  },
  {
   "cell_type": "code",
   "execution_count": 6,
   "metadata": {},
   "outputs": [],
   "source": [
    "### tuners \n",
    "n_jobs = -1\n",
    "\n",
    "ba =  BayesianOptimization(Robust_PCA_estimator(cols=[0]), param_grid, n_jobs=n_jobs)\n",
    "gr =  GridSearchCV(Robust_PCA_estimator(cols=[0]), param_grid, n_jobs=n_jobs)\n",
    "\n",
    "\n",
    "\n",
    "\n"
   ]
  },
  {
   "cell_type": "code",
   "execution_count": 7,
   "metadata": {},
   "outputs": [
    {
     "name": "stdout",
     "output_type": "stream",
     "text": [
      "10\n",
      "{'train_error': {'original_error': 868.142, 'error': 36.464, 'ratio': 0.04200234523845177}, 'train_time': 1.2151923179626465, 'params': {'delta': 0.1, 'n_components': 4}, 'estimator': Robust_PCA_estimator(delta=0.1, n_components=1, threshold=0.37857142857142856), 'scenario_errors': {'full_set': {'original_error': 938.248, 'error': 82.303, 'ratio': 0.0877198779000861}}}\n",
      "1\n",
      "1\n",
      "1\n",
      "1\n",
      "1\n",
      "1\n",
      "1\n",
      "1\n",
      "1\n",
      "10\n",
      "1\n",
      "1\n",
      "1\n",
      "{'train_error': {'original_error': 3.754, 'error': 3.097, 'ratio': 0.8249866808737347}, 'train_time': 1.0211927890777588, 'params': {'delta': 0.1, 'n_components': 4}, 'estimator': Robust_PCA_estimator(delta=0.1, threshold=2.646938775510204), 'scenario_errors': {'full_set': {'original_error': 5.433, 'error': 5.433, 'ratio': 1.0}}}\n",
      "1\n",
      "2\n",
      "1\n",
      "1\n",
      "1\n",
      "1\n",
      "1\n",
      "1\n",
      "1\n",
      "1\n",
      "10\n",
      "1\n",
      "1\n",
      "1\n",
      "{'train_error': {'original_error': 0.059, 'error': 0.025, 'ratio': 0.42372881355932207}, 'train_time': 6.1632843017578125, 'params': {'delta': 0.1, 'n_components': 4}, 'estimator': Robust_PCA_estimator(delta=0.1, threshold=1.5724489795918368), 'scenario_errors': {'full_set': {'original_error': 0.182, 'error': 0.06, 'ratio': 0.32967032967032966}}}\n"
     ]
    }
   ],
   "source": [
    "for scen in scenarios:\n",
    "    print(scen.optimize(gr,\"bayesian\"))\n"
   ]
  },
  {
   "cell_type": "code",
   "execution_count": 8,
   "metadata": {
    "scrolled": true
   },
   "outputs": [
    {
     "name": "stdout",
     "output_type": "stream",
     "text": [
      "{'bayesian': {'train_error': {'original_error': 868.142, 'error': 36.464, 'ratio': 0.04200234523845177}, 'train_time': 1.2151923179626465, 'params': {'delta': 0.1, 'n_components': 4}, 'estimator': Robust_PCA_estimator(delta=0.1, n_components=1, threshold=0.37857142857142856), 'scenario_errors': {'full_set': {'original_error': 938.248, 'error': 82.303, 'ratio': 0.0877198779000861}}}}\n",
      "{'bayesian': {'train_error': {'original_error': 3.754, 'error': 3.097, 'ratio': 0.8249866808737347}, 'train_time': 1.0211927890777588, 'params': {'delta': 0.1, 'n_components': 4}, 'estimator': Robust_PCA_estimator(delta=0.1, threshold=2.646938775510204), 'scenario_errors': {'full_set': {'original_error': 5.433, 'error': 5.433, 'ratio': 1.0}}}}\n",
      "{'bayesian': {'train_error': {'original_error': 0.059, 'error': 0.025, 'ratio': 0.42372881355932207}, 'train_time': 6.1632843017578125, 'params': {'delta': 0.1, 'n_components': 4}, 'estimator': Robust_PCA_estimator(delta=0.1, threshold=1.5724489795918368), 'scenario_errors': {'full_set': {'original_error': 0.182, 'error': 0.06, 'ratio': 0.32967032967032966}}}}\n"
     ]
    }
   ],
   "source": [
    "for scen in scenarios:\n",
    "    print(scen.opt_results)\n"
   ]
  },
  {
   "cell_type": "code",
   "execution_count": 9,
   "metadata": {},
   "outputs": [],
   "source": [
    "estims = []\n",
    "for scen in scenarios:\n",
    "    estims += [v[\"estimator\"].exaplained_variance[0] for k,v in scen.opt_results.items()]\n",
    "    estims += [v[\"estimator\"].exaplained_variance[-1] for k,v in scen.opt_results.items()]\n",
    "    estims += [v[\"train_error\"] for k,v in scen.opt_results.items()]\n",
    "    estims += [v[\"scenario_errors\"] for k,v in scen.opt_results.items()]\n",
    "\n"
   ]
  },
  {
   "cell_type": "code",
   "execution_count": 10,
   "metadata": {
    "scrolled": true
   },
   "outputs": [
    {
     "data": {
      "text/plain": [
       "[0.9020486169315696,\n",
       " 0.9685389269096317,\n",
       " {'original_error': 868.142, 'error': 36.464, 'ratio': 0.04200234523845177},\n",
       " {'full_set': {'original_error': 938.248,\n",
       "   'error': 82.303,\n",
       "   'ratio': 0.0877198779000861}},\n",
       " 0.9320503760323379,\n",
       " 0.9508909687459457,\n",
       " {'original_error': 3.754, 'error': 3.097, 'ratio': 0.8249866808737347},\n",
       " {'full_set': {'original_error': 5.433, 'error': 5.433, 'ratio': 1.0}},\n",
       " 0.9082067456979308,\n",
       " 0.9401799883914607,\n",
       " {'original_error': 0.059, 'error': 0.025, 'ratio': 0.42372881355932207},\n",
       " {'full_set': {'original_error': 0.182,\n",
       "   'error': 0.06,\n",
       "   'ratio': 0.32967032967032966}}]"
      ]
     },
     "execution_count": 10,
     "metadata": {},
     "output_type": "execute_result"
    }
   ],
   "source": [
    "estims"
   ]
  },
  {
   "cell_type": "code",
   "execution_count": null,
   "metadata": {},
   "outputs": [],
   "source": []
  },
  {
   "cell_type": "code",
   "execution_count": null,
   "metadata": {},
   "outputs": [],
   "source": []
  },
  {
   "cell_type": "code",
   "execution_count": null,
   "metadata": {},
   "outputs": [],
   "source": []
  }
 ],
 "metadata": {
  "kernelspec": {
   "display_name": "Python 3 (ipykernel)",
   "language": "python",
   "name": "python3"
  },
  "language_info": {
   "codemirror_mode": {
    "name": "ipython",
    "version": 3
   },
   "file_extension": ".py",
   "mimetype": "text/x-python",
   "name": "python",
   "nbconvert_exporter": "python",
   "pygments_lexer": "ipython3",
   "version": "3.8.10"
  }
 },
 "nbformat": 4,
 "nbformat_minor": 1
}
